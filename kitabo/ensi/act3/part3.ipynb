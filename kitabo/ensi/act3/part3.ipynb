{
 "cells": [
  {
   "cell_type": "markdown",
   "metadata": {},
   "source": [
    "# Self Play"
   ]
  },
  {
   "cell_type": "code",
   "execution_count": 4,
   "metadata": {
    "tags": [
     "hide-input"
    ]
   },
   "outputs": [
    {
     "name": "stdout",
     "output_type": "stream",
     "text": [
      "Red Wins!\n"
     ]
    }
   ],
   "source": [
    "import pygame\n",
    "import random\n",
    "\n",
    "# Initialize Pygame\n",
    "pygame.init()\n",
    "\n",
    "# Constants\n",
    "SCREEN_WIDTH, SCREEN_HEIGHT = 800, 600\n",
    "RING_RADIUS = 200\n",
    "WRESTLER_RADIUS = 25\n",
    "SPEED = 5\n",
    "\n",
    "# Colors\n",
    "WHITE = (255, 255, 255)\n",
    "BLACK = (0, 0, 0)\n",
    "RED = (255, 0, 0)\n",
    "BLUE = (0, 0, 255)\n",
    "\n",
    "# Setup the display\n",
    "screen = pygame.display.set_mode((SCREEN_WIDTH, SCREEN_HEIGHT))\n",
    "pygame.display.set_caption(\"Sumo Wrestling\")\n",
    "\n",
    "class Wrestler:\n",
    "    def __init__(self, x, y, color):\n",
    "        self.x = x\n",
    "        self.y = y\n",
    "        self.color = color\n",
    "        self.dx = 0\n",
    "        self.dy = 0\n",
    "\n",
    "    def move(self):\n",
    "        self.x += self.dx\n",
    "        self.y += self.dy\n",
    "\n",
    "    def push(self, other):\n",
    "        # Simple push logic, can be enhanced\n",
    "        dx = other.x - self.x\n",
    "        dy = other.y - self.y\n",
    "        distance = (dx**2 + dy**2)**0.5\n",
    "        if distance < WRESTLER_RADIUS * 2:\n",
    "            other.dx = -dx * 0.1\n",
    "            other.dy = -dy * 0.1\n",
    "\n",
    "    def draw(self, surface):\n",
    "        pygame.draw.circle(surface, self.color, (int(self.x), int(self.y)), WRESTLER_RADIUS)\n",
    "\n",
    "def is_out_of_ring(wrestler):\n",
    "    distance = ((wrestler.x - SCREEN_WIDTH/2)**2 + (wrestler.y - SCREEN_HEIGHT/2)**2)**0.5\n",
    "    return distance > RING_RADIUS\n",
    "\n",
    "# Create wrestlers\n",
    "red_wrestler = Wrestler(SCREEN_WIDTH//2 - 50, SCREEN_HEIGHT//2, RED)\n",
    "blue_wrestler = Wrestler(SCREEN_WIDTH//2 + 50, SCREEN_HEIGHT//2, BLUE)\n",
    "\n",
    "# Game loop\n",
    "running = True\n",
    "clock = pygame.time.Clock()\n",
    "while running:\n",
    "    for event in pygame.event.get():\n",
    "        if event.type == pygame.QUIT:\n",
    "            running = False\n",
    "\n",
    "    # Clear the screen\n",
    "    screen.fill(BLACK)\n",
    "\n",
    "    # Draw the ring\n",
    "    pygame.draw.circle(screen, WHITE, (SCREEN_WIDTH//2, SCREEN_HEIGHT//2), RING_RADIUS, 2)\n",
    "\n",
    "    # Handle keyboard input for red wrestler\n",
    "    keys = pygame.key.get_pressed()\n",
    "    red_wrestler.dx = (keys[pygame.K_RIGHT] - keys[pygame.K_LEFT]) * SPEED\n",
    "    red_wrestler.dy = (keys[pygame.K_DOWN] - keys[pygame.K_UP]) * SPEED\n",
    "\n",
    "    # AI or simple input for blue wrestler\n",
    "    blue_wrestler.dx = random.choice([-1, 0, 1]) * SPEED\n",
    "    blue_wrestler.dy = random.choice([-1, 0, 1]) * SPEED\n",
    "\n",
    "    # Move wrestlers\n",
    "    red_wrestler.move()\n",
    "    blue_wrestler.move()\n",
    "\n",
    "    # Push logic\n",
    "    red_wrestler.push(blue_wrestler)\n",
    "    blue_wrestler.push(red_wrestler)\n",
    "\n",
    "    # Check if out of ring\n",
    "    if is_out_of_ring(red_wrestler):\n",
    "        print(\"Blue Wins!\")\n",
    "        running = False\n",
    "    if is_out_of_ring(blue_wrestler):\n",
    "        print(\"Red Wins!\")\n",
    "        running = False\n",
    "\n",
    "    # Keep wrestlers within screen bounds\n",
    "    red_wrestler.x = max(WRESTLER_RADIUS, min(red_wrestler.x, SCREEN_WIDTH - WRESTLER_RADIUS))\n",
    "    red_wrestler.y = max(WRESTLER_RADIUS, min(red_wrestler.y, SCREEN_HEIGHT - WRESTLER_RADIUS))\n",
    "    blue_wrestler.x = max(WRESTLER_RADIUS, min(blue_wrestler.x, SCREEN_WIDTH - WRESTLER_RADIUS))\n",
    "    blue_wrestler.y = max(WRESTLER_RADIUS, min(blue_wrestler.y, SCREEN_HEIGHT - WRESTLER_RADIUS))\n",
    "\n",
    "    # Draw wrestlers\n",
    "    red_wrestler.draw(screen)\n",
    "    blue_wrestler.draw(screen)\n",
    "\n",
    "    pygame.display.flip()\n",
    "    clock.tick(60)\n",
    "\n",
    "pygame.quit()"
   ]
  }
 ],
 "metadata": {
  "kernelspec": {
   "display_name": "myenv",
   "language": "python",
   "name": "python3"
  },
  "language_info": {
   "codemirror_mode": {
    "name": "ipython",
    "version": 3
   },
   "file_extension": ".py",
   "mimetype": "text/x-python",
   "name": "python",
   "nbconvert_exporter": "python",
   "pygments_lexer": "ipython3",
   "version": "3.12.4"
  },
  "widgets": {
   "application/vnd.jupyter.widget-state+json": {
    "state": {},
    "version_major": 2,
    "version_minor": 0
   }
  }
 },
 "nbformat": 4,
 "nbformat_minor": 4
}
