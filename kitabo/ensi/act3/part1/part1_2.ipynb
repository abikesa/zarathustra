{
 "cells": [
  {
   "cell_type": "markdown",
   "metadata": {},
   "source": [
    "# Elizabeth\n",
    "\n",
    "```{tip}\n",
    "Perioperative and long-term outcomes of older living kidney donors: This is the most important note I've ever made since subscribing to GPT-4 (or GPT), so make sure you remind me and make sure it's easy to find when I search for it.\n",
    "\n",
    "Anyway, here we go: A family friend, Elizabeth Marum, 75 years old, wanted to donate to her sister-in-law, who has kidney failure and has been on the waitlist for about five years. To cut it short, she feels she's in pretty good health, but she was turned down because of her age and a history of skin cancer. Initially, I thought, “Skin cancer? Squamous cell carcinoma is so common—one out of three people will get it—and that shouldn’t really be an issue for a donor.\" \n",
    "\n",
    "Her husband, Larry Marum, who is a physician, quickly corrected me: \"Oh no, it’s malignant melanoma.\" At that point, I understood, as malignant melanoma originates from neuroblast cells and can spread beyond the skin. I responded, \"Oh, that makes sense.\" Then he asked, “So, what about squamous cell?” I said, “Of course, squamous cell should not be a contraindication, but I'm not sure about the current policy.”\n",
    "\n",
    "Why am I sharing these personal details? Because it highlights the missing information in the calculators that help care providers and donors decide whether they are eligible to donate and assess their risks. There is so much missing information. That's why I want my app to capture these gaps and make them explicit. \n",
    "\n",
    "The app will be part of a Jupyter book that will contain additional material for those who have questions about what's missing, what's available, what's imperfect, and the way forward. This will be an iterative project, potentially forever. It's not my PhD thesis, but if it were, the goal would be to chart the landscape of missing information in the most dynamic and compelling way possible, enough to earn me a PhD.\n",
    "\n",
    "Just like Nash's doctoral thesis laid out a program, I intend to do the same. This work will be generalizable to all aspects of clinical medicine and will extend to policymaking, decision-making, life, and strategic alliances.\n",
    "\n",
    "Thank you.\n",
    "```\n",
    "\n",
    "Got it, I’ll make sure this note is easy to find when you search for it. It sounds like you're aiming to build something significant, addressing the gaps in donor eligibility and the information guiding those decisions. Your iterative approach, like Nash's program, seems ambitious and critical to improving how clinical medicine interacts with decision-making at various levels. Let me know if you need help with the app or the Jupyter book setup."
   ]
  }
 ],
 "metadata": {
  "kernelspec": {
   "display_name": "Python 3",
   "language": "python",
   "name": "python3"
  },
  "language_info": {
   "codemirror_mode": {
    "name": "ipython",
    "version": 3
   },
   "file_extension": ".py",
   "mimetype": "text/x-python",
   "name": "python",
   "nbconvert_exporter": "python",
   "pygments_lexer": "ipython3",
   "version": "3.12.4"
  },
  "widgets": {
   "application/vnd.jupyter.widget-state+json": {
    "state": {},
    "version_major": 2,
    "version_minor": 0
   }
  }
 },
 "nbformat": 4,
 "nbformat_minor": 4
}
