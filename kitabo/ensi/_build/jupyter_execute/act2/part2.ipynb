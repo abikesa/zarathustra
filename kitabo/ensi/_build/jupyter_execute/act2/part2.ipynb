{
 "cells": [
  {
   "cell_type": "markdown",
   "metadata": {},
   "source": [
    "# Tikkum atzmi\n",
    "\n",
    "<div class=\"container\">\n",
    "        <iframe class=\"video\" src=\"https://www.youtube.com/embed/W3ntTi0a6ls\" frameborder=\"0\" allowfullscreen></iframe>\n",
    "        <iframe class=\"video\" src=\"https://www.youtube.com/embed/MS4jk5kavy4\" frameborder=\"0\" allowfullscreen></iframe>\n",
    "    </div>\n",
    "\n"
   ]
  }
 ],
 "metadata": {
  "kernelspec": {
   "display_name": "Python 3",
   "language": "python",
   "name": "python3"
  },
  "language_info": {
   "codemirror_mode": {
    "name": "ipython",
    "version": 3
   },
   "file_extension": ".py",
   "mimetype": "text/x-python",
   "name": "python",
   "nbconvert_exporter": "python",
   "pygments_lexer": "ipython3",
   "version": "3.12.4"
  },
  "widgets": {
   "application/vnd.jupyter.widget-state+json": {
    "state": {},
    "version_major": 2,
    "version_minor": 0
   }
  }
 },
 "nbformat": 4,
 "nbformat_minor": 4
}