{
 "cells": [
  {
   "cell_type": "markdown",
   "metadata": {},
   "source": [
    "# Tikum Atzmi\n",
    "\n",
    "> *The A-Z of me (atzmi)*\n",
    "\n",
    "Here's a mix of qualities, interests, and insights that might define our \"atzmi\":\n",
    "\n",
    "**A** - *Adversarial*: You often explore competitive dynamics, from game theory to historical conflicts, to understand the balance between cooperation and opposition.  \n",
    "**B** - *Bach*: Johann Sebastian Bach is a guiding musical figure for you, representing a kind of improvisational mastery.  \n",
    "**C** - *Cybernetics*: You're intrigued by the feedback loops between humans, technology, and biology.  \n",
    "**D** - *Dostoevsky*: His existential struggles resonate with you, contrasting sharply with the defiance of Nietzsche.  \n",
    "**E** - *Existential*: You've been grappling with existential questions about your career, identity, and relationships, especially in the context of academic medicine.  \n",
    "**F** - *Fractal*: You see the world through fractal patterns, from biological processes to economic systems, always searching for the underlying structure.  \n",
    "**G** - *Game Theory*: It’s a central framework you use to interpret everything from social dynamics to strategic career moves.  \n",
    "**H** - *Hammond Organ*: A key element of gospel music that speaks to your love for its depth and expressive power.  \n",
    "**I** - *Iterative*: You believe in learning through iteration, embracing the process of refining and adjusting as you go.  \n",
    "**J** - *Jupyter Book*: You're committed to transcribing your ideas into this format, blending coding with narrative.  \n",
    "**K** - *Kafkaesque*: At times, you see life as a surreal maze of absurdity, especially when dealing with bureaucratic or professional challenges.  \n",
    "**L** - *Leitmotif*: You appreciate recurring themes, whether in music or in the narrative arcs of movies and life.  \n",
    "**M** - *Marx*: You engage deeply with his ideas, critiquing and appreciating the scope of his vision.  \n",
    "**N** - *Next Token*: Your thought process often mirrors predictive models, anticipating the next development in a sequence.  \n",
    "**O** - *Orval*: One of your preferred Belgian beers, representing a touch of indulgence amidst deep contemplation.  \n",
    "**P** - *Phrygian Mode*: You have a fascination with musical modes, particularly those with exotic roots that resonate with your appreciation for the non-Western.  \n",
    "**Q** - *Quantization*: Rhythm, time signatures, and the precision of musical structure fascinate you, mirroring the methodical side of your thinking.  \n",
    "**R** - *Resilience*: You see resilience as a key part of your journey, especially when facing unexpected challenges or changes.  \n",
    "**S** - *Strategy*: A dominant force in your life, you view your decisions through a strategic lens, especially when it comes to career and collaboration.  \n",
    "**T** - *Tragic Nobility*: You admire characters in literature and opera who face suffering with a sense of dignity and purpose.  \n",
    "**U** - *Unerforschliche*: A sense of the unknown intrigues you, like the depths of Mozart’s *Zaide* that move beyond words into the realm of pure sound.  \n",
    "**V** - *Visceral*: From musical chords to philosophical concepts, you have a visceral connection to the ideas you engage with.  \n",
    "**W** - *Westmalle Tripel*: Another favorite beer, reflecting a taste for well-crafted and robust flavors.  \n",
    "**X** - *Xenophilia*: You have a fascination with cultures, ideas, and music that stretch beyond the familiar, from flamenco’s roots to ancient philosophy.  \n",
    "**Y** - *Yearning*: There's a clear sense of searching in your thoughts—a desire to connect disparate ideas and find deeper meaning.  \n",
    "**Z** - *Zaide*: Mozart's lesser-known work, reflecting your interest in the underexplored and the beautifully obscure.\n",
    "\n",
    "## Fall of Man"
   ]
  },
  {
   "cell_type": "code",
   "execution_count": 12,
   "metadata": {
    "tags": [
     "hide-input"
    ]
   },
   "outputs": [
    {
     "data": {
      "image/png": "[encoded data removed]",
      "text/plain": [
       "<Figure size 640x480 with 1 Axes>"
      ]
     },
     "metadata": {},
     "output_type": "display_data"
    }
   ],
   "source": [
    "import matplotlib.pyplot as plt\n",
    "import numpy as np\n",
    "\n",
    "# Create the updated plot to reflect the vertical hierarchy of Inferno (red), Limbo (green), and Paradiso (blue)\n",
    "\n",
    "def draw_vertical_triangle(ax, vertices, labels, color='black'):\n",
    "    \"\"\"Draws a triangle vertically arranged with given vertices and labels, matching color.\"\"\"\n",
    "    triangle = plt.Polygon(vertices, edgecolor=color, fill=None, linewidth=1.5)\n",
    "    ax.add_patch(triangle)\n",
    "    for i, (x, y) in enumerate(vertices):\n",
    "        ax.text(x, y, labels[i], fontsize=12, ha='center', va='center', color=color)\n",
    "\n",
    "def get_vertical_triangle_vertices(center, radius, scale, tilt):\n",
    "    \"\"\"Returns the vertices for a vertically aligned triangle with perspective scaling.\"\"\"\n",
    "    angles = np.linspace(0, 2 * np.pi, 4)[:-1] + np.pi / 2\n",
    "    vertices = np.column_stack([center[0] + radius * scale * np.cos(angles + tilt),\n",
    "                                center[1] + radius * scale * np.sin(angles + tilt)])\n",
    "    return vertices\n",
    "\n",
    "# Create the plot\n",
    "fig, ax = plt.subplots()\n",
    "ax.set_aspect('equal')\n",
    "\n",
    "# Vertically layered centers for Inferno, Limbo, and Paradiso\n",
    "vertical_centers = [(0, -8), (0, 0), (0, 8)]\n",
    "radii = [5, 7, 8]\n",
    "triads = [\n",
    "    ['Betrayal', 'Power', 'Survival'],  # Inferno layer\n",
    "    ['Loyalty', 'Empathy', 'Resilience'],  # Limbo layer\n",
    "    ['Faith', 'Love', 'Hope']  # Paradiso layer\n",
    "]\n",
    "\n",
    "# Inferno (red), Limbo (green), Paradiso (blue)\n",
    "colors = ['lightsalmon', 'lightgreen', 'paleturquoise']\n",
    "\n",
    "# Scaling for 3D perspective and slight tilts for visual depth\n",
    "scales = [.5, .7, .9]\n",
    "tilts = [np.pi / 6, np.pi / 12, 0]\n",
    "\n",
    "# Draw the vertically aligned triangles with increasing radius and perspective scaling\n",
    "for center, radius, triad, color, scale, tilt in zip(vertical_centers, radii, triads, colors, scales, tilts):\n",
    "    vertices = get_vertical_triangle_vertices(center, radius, scale, tilt)\n",
    "    draw_vertical_triangle(ax, vertices, triad, color=color)\n",
    "\n",
    "# Set limits and hide axes to fit the frame\n",
    "ax.set_xlim(-12, 12)\n",
    "ax.set_ylim(-15, 15)\n",
    "ax.axis('off')\n",
    "\n",
    "# Display the plot\n",
    "plt.show()"
   ]
  },
  {
   "cell_type": "markdown",
   "metadata": {},
   "source": [
    "```{figure} ../figures/blanche.*\n",
    "---\n",
    "width: 1\n",
    "height: 1\n",
    "---\n",
    "_Updated Visual Representation of Our Allegory_. This clarifies a vertical hierarchy. It reflects the progression or salvation from _Inferno_ (red) at the bottom, through _Limbo_ (green) in the middle, to _Paradiso_ (blue) at the top, with each layer embodying key elements of the human condition as well as Robert Aumann’s modification to [Isaiah 2:4](https://www.nobelprize.org/uploads/2018/06/aumann-lecture.pdf). The slight scaling and tilts give it a 3D effect, adding depth to the symbolism.\n",
    "```"
   ]
  }
 ],
 "metadata": {
  "kernelspec": {
   "display_name": "myenv",
   "language": "python",
   "name": "python3"
  },
  "language_info": {
   "codemirror_mode": {
    "name": "ipython",
    "version": 3
   },
   "file_extension": ".py",
   "mimetype": "text/x-python",
   "name": "python",
   "nbconvert_exporter": "python",
   "pygments_lexer": "ipython3",
   "version": "3.12.4"
  },
  "widgets": {
   "application/vnd.jupyter.widget-state+json": {
    "state": {},
    "version_major": 2,
    "version_minor": 0
   }
  }
 },
 "nbformat": 4,
 "nbformat_minor": 4
}