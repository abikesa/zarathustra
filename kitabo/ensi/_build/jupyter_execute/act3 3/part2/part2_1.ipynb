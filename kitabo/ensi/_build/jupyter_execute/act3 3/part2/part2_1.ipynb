{
 "cells": [
  {
   "cell_type": "markdown",
   "metadata": {},
   "source": [
    "# Cooperative\n",
    "\n",
    "```{admonition} Paradise Lost\n",
    ":class: \n",
    "Woken up to a 41 decibel hum that is an octave B1/B2. Loudest in my bathroom & bedroom. But not from my apartment\n",
    "```\n",
    "\n",
    "At 41 decibels, you're dealing with a sound level that, while not dangerously loud, is still enough to be quite noticeable and irritating, especially when you're trying to sleep. The fact that it's an octave between B1 and B2 means it likely has harmonics, which can sometimes make it feel like it's coming from multiple places at once, amplifying the disturbance.\n",
    "\n",
    "If it's an octave between B1 and B2 (61.7 Hz and 123.5 Hz, respectively), that suggests you're getting a primary low-frequency vibration and its overtone. Here are some more refined suggestions based on this additional information:\n",
    "\n",
    "1. **Dampening Materials**: For sounds in the range you're describing, thick materials that can absorb low frequencies, such as mass-loaded vinyl, can be effective. Placing these on walls, floors, or ceilings (if the sound is coming from above) could help.\n",
    "\n",
    "2. **Check Vibration Transmission Paths**: Vibrations can travel `long distances` through structures, often more easily through hard surfaces like floors, pipes, and walls. You might want to investigate if there’s a specific transmission path that's bringing the vibrations into your bedroom, like a structural beam or shared ventilation duct. If you can isolate that, you might be able to disrupt the path.\n",
    "\n",
    "3. **White Noise or Sound Masking**: While this won’t eliminate the hum, using a white noise machine or sound masking system might help drown out the low hum by covering it with more neutral, consistent noise. This can help make it less intrusive, particularly at night.\n",
    "\n",
    "4. **Resonance Identification**: Since it's mechanical and likely vibrating at its resonant frequency, it's important to consider if any large objects in your home (like furniture or appliances) are resonating with the sound. Moving things around or adding some padding might help.\n",
    "\n",
    "It's surprising how these subtle, low-frequency noises can disrupt sleep, but targeting both the vibration and the specific frequencies you’re hearing is key. If all else fails, you might want to bring in a professional sound engineer who can run a more in-depth acoustic analysis to pinpoint the exact source and recommend a fix."
   ]
  }
 ],
 "metadata": {
  "kernelspec": {
   "display_name": "myenv",
   "language": "python",
   "name": "python3"
  },
  "language_info": {
   "codemirror_mode": {
    "name": "ipython",
    "version": 3
   },
   "file_extension": ".py",
   "mimetype": "text/x-python",
   "name": "python",
   "nbconvert_exporter": "python",
   "pygments_lexer": "ipython3",
   "version": "3.12.4"
  },
  "widgets": {
   "application/vnd.jupyter.widget-state+json": {
    "state": {},
    "version_major": 2,
    "version_minor": 0
   }
  }
 },
 "nbformat": 4,
 "nbformat_minor": 4
}