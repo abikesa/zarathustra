{
 "cells": [
  {
   "cell_type": "markdown",
   "metadata": {},
   "source": [
    "(symbols-forward)=\n",
    "# Symbols (Forward)\n",
    "\n",
    "```{figure} ../figures/polina.png\n",
    "---\n",
    "width: 100%\n",
    "height: 100%\n",
    "---\n",
    "_Trio of Symbols_. In various works of art, artists portray the human struggle or gamble in the quest for what often remains elusive: finding meaning and beauty, but always in the shadow of fate. That \"in-between\" defines the human condition. Zarathustra's [prologue](https://www.gutenberg.org/files/1998/1998-h/1998-h.htm) declares that \"Man is a `rope` stretched between the `animal` and the `übermensch`--a rope over an abyss.\" And [Alexis](https://www.gutenberg.org/cache/epub/2197/pg2197-images.html#chap11) Ivanovitch triumphantly says, \"I had dared so to `risk`, and behold, again I was a member of mankind!\"\n",
    "```\n",
    "\n",
    "```{seealso}\n",
    "{ref}`the-dudes-rug`\n",
    "```"
   ]
  }
 ],
 "metadata": {
  "kernelspec": {
   "display_name": "myenv",
   "language": "python",
   "name": "python3"
  },
  "language_info": {
   "codemirror_mode": {
    "name": "ipython",
    "version": 3
   },
   "file_extension": ".py",
   "mimetype": "text/x-python",
   "name": "python",
   "nbconvert_exporter": "python",
   "pygments_lexer": "ipython3",
   "version": "3.12.4"
  },
  "widgets": {
   "application/vnd.jupyter.widget-state+json": {
    "state": {},
    "version_major": 2,
    "version_minor": 0
   }
  }
 },
 "nbformat": 4,
 "nbformat_minor": 4
}
